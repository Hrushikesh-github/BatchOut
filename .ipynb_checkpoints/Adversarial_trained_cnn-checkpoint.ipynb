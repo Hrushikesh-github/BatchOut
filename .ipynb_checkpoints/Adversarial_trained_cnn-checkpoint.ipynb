{
 "cells": [
  {
   "cell_type": "markdown",
   "metadata": {},
   "source": [
    "We create a CNN network, architecture same as batchout models. We train this network adversarially and then perform it's evaluation on test set. We note the accuracies obtained against the fgsm attacks"
   ]
  },
  {
   "cell_type": "code",
   "execution_count": 13,
   "metadata": {},
   "outputs": [],
   "source": [
    "import torch\n",
    "import torch.nn as nn\n",
    "import torch.optim as optim\n",
    "from torchvision import datasets, transforms\n",
    "from torch.utils.data import DataLoader\n",
    "import foolbox as fb\n",
    "from architectures import model_cnn\n",
    "\n",
    "# Load the weights of our models\n",
    "#model_cnn.load_state_dict(torch.load(\"models/mnist_cnn.pt\"))"
   ]
  },
  {
   "cell_type": "code",
   "execution_count": 14,
   "metadata": {},
   "outputs": [],
   "source": [
    "def epoch(loader, model, opt=None):\n",
    "    \"\"\"Standard training/evaluation epoch over the dataset\"\"\"\n",
    "    total_loss, total_err = 0.,0.\n",
    "    for X,y in loader:\n",
    "        X,y = X.to(device), y.to(device)\n",
    "        if not opt:\n",
    "            model.eval()\n",
    "            yp = model(X)\n",
    "            loss = nn.CrossEntropyLoss()(yp,y)\n",
    "        if opt:\n",
    "            model.train()\n",
    "            yp = model(X)\n",
    "            loss = nn.CrossEntropyLoss()(yp, y)\n",
    "            opt.zero_grad()\n",
    "            loss.backward()\n",
    "            opt.step()\n",
    "\n",
    "        total_err += (yp.max(dim=1)[1] != y).sum().item()\n",
    "        total_loss += loss.item() * X.shape[0]\n",
    "    return total_err / len(loader.dataset), total_loss / len(loader.dataset)\n",
    "\n",
    "def epoch_adversarial(loader, model, attack, epsilon, opt=None, **kwargs):\n",
    "    \"\"\"Adversarial training/evaluation epoch over the dataset\"\"\"\n",
    "    total_loss, total_err = 0.,0.\n",
    "    for X,y in loader:\n",
    "        X,y = X.to(device), y.to(device)\n",
    "        # We update our delta unlike the standard epoch and the train the model to be robust\n",
    "        delta = epsilon * attack(model, X, y)\n",
    "\n",
    "        if not opt:\n",
    "            model.eval()\n",
    "            yp = model(X + delta)\n",
    "            loss = nn.CrossEntropyLoss()(yp, y)\n",
    "\n",
    "        if opt:\n",
    "            model.train()\n",
    "            yp = model(X + delta)\n",
    "            loss = nn.CrossEntropyLoss()(yp, y)\n",
    "            opt.zero_grad()\n",
    "            loss.backward()\n",
    "            opt.step()\n",
    "\n",
    "\n",
    "        total_err += (yp.max(dim=1)[1] != y).sum().item()\n",
    "        total_loss += loss.item() * X.shape[0]\n",
    "    return total_err / len(loader.dataset), total_loss / len(loader.dataset)\n",
    "\n",
    "\n"
   ]
  },
  {
   "cell_type": "code",
   "execution_count": 15,
   "metadata": {},
   "outputs": [],
   "source": [
    "def fgsm(model, X, y):\n",
    "    \"\"\" Construct FGSM adversarial examples on the examples X\"\"\"\n",
    "    delta = torch.zeros_like(X, requires_grad=True)\n",
    "    loss = nn.CrossEntropyLoss()(model(X + delta), y)\n",
    "    loss.backward()\n",
    "    return delta.grad.detach().sign() # We will multiply epsilon in the epoch functions\n"
   ]
  },
  {
   "cell_type": "code",
   "execution_count": 16,
   "metadata": {},
   "outputs": [
    {
     "name": "stdout",
     "output_type": "stream",
     "text": [
      "cuda\n"
     ]
    }
   ],
   "source": [
    "device = torch.device(\"cuda\" if torch.cuda.is_available() else \"cpu\")\n",
    "print(device)\n",
    "\n",
    "mnist_train = datasets.MNIST(\"./data\", train=True, download=True, transform=transforms.ToTensor())\n",
    "mnist_test = datasets.MNIST(\"./data\", train=False, download=True, transform=transforms.ToTensor())\n",
    "\n",
    "train_loader = DataLoader(mnist_train, batch_size = 512, shuffle=True)\n",
    "test_loader = DataLoader(mnist_test, batch_size = 512, shuffle=False)\n"
   ]
  },
  {
   "cell_type": "code",
   "execution_count": 18,
   "metadata": {},
   "outputs": [
    {
     "name": "stdout",
     "output_type": "stream",
     "text": [
      "---------- epsilon: 0.1 ----------\n",
      "0.106133\t0.022100\t0.095000\n",
      "0.099400\t0.021400\t0.098000\n",
      "0.094583\t0.018000\t0.083900\n",
      "0.088017\t0.015500\t0.070600\n",
      "0.085333\t0.015500\t0.072200\n",
      "0.080100\t0.013600\t0.067500\n",
      "0.079083\t0.013600\t0.067400\n",
      "0.079267\t0.013300\t0.066200\n",
      "0.078350\t0.013200\t0.067400\n",
      "0.079317\t0.013500\t0.067500\n",
      "0.079417\t0.013000\t0.066300\n",
      "0.078117\t0.013000\t0.066400\n",
      "0.077433\t0.013000\t0.066300\n",
      "0.077683\t0.013000\t0.066500\n",
      "0.077317\t0.013000\t0.066400\n",
      "---------- epsilon: 0.2 ----------\n",
      "0.177333\t0.018600\t0.183600\n",
      "0.160933\t0.016700\t0.162300\n",
      "0.151000\t0.015600\t0.146600\n",
      "0.144950\t0.015200\t0.143700\n",
      "0.133567\t0.015500\t0.133300\n",
      "0.127717\t0.015000\t0.126300\n",
      "0.129183\t0.014700\t0.123300\n",
      "0.125733\t0.014300\t0.127700\n",
      "0.126450\t0.014700\t0.129700\n",
      "0.127067\t0.014900\t0.128100\n",
      "0.125383\t0.014700\t0.120500\n",
      "0.122250\t0.014600\t0.120300\n",
      "0.121433\t0.014600\t0.123600\n",
      "0.123583\t0.014600\t0.120800\n",
      "0.124883\t0.014600\t0.126700\n",
      "---------- epsilon: 0.3 ----------\n",
      "0.239117\t0.018600\t0.244900\n",
      "0.207983\t0.019300\t0.219700\n",
      "0.188917\t0.020800\t0.207400\n",
      "0.162333\t0.019400\t0.161400\n",
      "0.143217\t0.022500\t0.217300\n",
      "0.137283\t0.019700\t0.131800\n",
      "0.133000\t0.020100\t0.129800\n",
      "0.131333\t0.020700\t0.127700\n",
      "0.133300\t0.019900\t0.128600\n",
      "0.130050\t0.019300\t0.185000\n",
      "0.130433\t0.019700\t0.124900\n",
      "0.125867\t0.020000\t0.125000\n",
      "0.124600\t0.020000\t0.125500\n",
      "0.125567\t0.020400\t0.125900\n",
      "0.124183\t0.020800\t0.124900\n",
      "---------- epsilon: 0.4 ----------\n",
      "0.231350\t0.019500\t0.228600\n",
      "0.190667\t0.018100\t0.183600\n",
      "0.159417\t0.017700\t0.150600\n",
      "0.135883\t0.018500\t0.116600\n",
      "0.124250\t0.017200\t0.108300\n",
      "0.116017\t0.016700\t0.100200\n",
      "0.115133\t0.016800\t0.106600\n",
      "0.114233\t0.017400\t0.098600\n",
      "0.113733\t0.017100\t0.097100\n",
      "0.113450\t0.017200\t0.097200\n",
      "0.110800\t0.017000\t0.096100\n",
      "0.109800\t0.016800\t0.095900\n",
      "0.109267\t0.016700\t0.095600\n",
      "0.109150\t0.016700\t0.095600\n",
      "0.108817\t0.016800\t0.095500\n",
      "---------- epsilon: 0.5 ----------\n",
      "0.120483\t0.029300\t0.116700\n",
      "0.094617\t0.025200\t0.089200\n",
      "0.083233\t0.025500\t0.059300\n",
      "0.075367\t0.035500\t0.053200\n",
      "0.067217\t0.028800\t0.045600\n",
      "0.066633\t0.037500\t0.043500\n",
      "0.065667\t0.035600\t0.042100\n",
      "0.064133\t0.038300\t0.041400\n",
      "0.063517\t0.034400\t0.044600\n",
      "0.062817\t0.033800\t0.044600\n",
      "0.062450\t0.036100\t0.040800\n",
      "0.061617\t0.035700\t0.040900\n",
      "0.063250\t0.035700\t0.040800\n",
      "0.059550\t0.035700\t0.040400\n",
      "0.060617\t0.035700\t0.037500\n"
     ]
    }
   ],
   "source": [
    "for i,e in enumerate([0.1, 0.2, 0.3, 0.4, 0.5]):\n",
    "    from architectures import model_cnn\n",
    "    model_cnn.to(device)\n",
    "    opt = optim.SGD(model_cnn.parameters(), lr=1e-1)\n",
    "    print('-' * 10, 'epsilon: {}'.format(e), '-'*10)\n",
    "    for t in range(15):\n",
    "        train_err, train_loss = epoch_adversarial(train_loader, model_cnn, fgsm, e, opt)\n",
    "        test_err, test_loss = epoch(test_loader, model_cnn)\n",
    "        adv_test_err, adv_test_loss = epoch_adversarial(test_loader, model_cnn, fgsm, e)\n",
    "        if t == 4:\n",
    "            for param_group in opt.param_groups:\n",
    "                param_group[\"lr\"] = 1e-2\n",
    "        if t == 10:\n",
    "            for param_group in opt.param_groups:\n",
    "                param_group[\"lr\"] = 1e-4\n",
    "        print(*(\"{:.6f}\".format(i) for i in (train_err, test_err, adv_test_err)), sep=\"\\t\")\n",
    "    \n",
    "    torch.save(model_cnn.state_dict(), str(int(e * 10)) + '.pt')\n"
   ]
  },
  {
   "cell_type": "markdown",
   "metadata": {},
   "source": [
    "So we have trained the models adversarially and then performed attacks on them. For training and evaluating them (after traininig), we use the same value of episilon. So for example, the adversarially trained model on epsilon: 0.5, we get accuracy of 96.3%; for epsilon=0.4 we get 91.5 % but again this number can be further improved by better training strategies.\n",
    "These results are consistent with the paper\n"
   ]
  }
 ],
 "metadata": {
  "kernelspec": {
   "display_name": "Python 3",
   "language": "python",
   "name": "python3"
  },
  "language_info": {
   "codemirror_mode": {
    "name": "ipython",
    "version": 3
   },
   "file_extension": ".py",
   "mimetype": "text/x-python",
   "name": "python",
   "nbconvert_exporter": "python",
   "pygments_lexer": "ipython3",
   "version": "3.6.9"
  }
 },
 "nbformat": 4,
 "nbformat_minor": 4
}
